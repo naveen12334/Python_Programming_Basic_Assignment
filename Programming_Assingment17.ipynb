{
 "cells": [
  {
   "cell_type": "markdown",
   "metadata": {},
   "source": [
    "# Programming_Assingment17"
   ]
  },
  {
   "cell_type": "markdown",
   "metadata": {},
   "source": [
    "### Question1. Create a function that takes three arguments a, b, c and returns the sum of the numbers that are evenly divided by c from the range a, b inclusive.\n",
    "#### Examples\n",
    "#### evenly_divisible(1, 10, 20) ➞ 0\n",
    "#### # No number between 1 and 10 can be evenly divided by 20.\n",
    "#### evenly_divisible(1, 10, 2) ➞ 30\n",
    "#### # 2 + 4 + 6 + 8 + 10 = 30\n",
    "#### evenly_divisible(1, 10, 3) ➞ 18\n",
    "#### # 3 + 6 + 9 = 18\n"
   ]
  },
  {
   "cell_type": "code",
   "execution_count": 4,
   "metadata": {},
   "outputs": [
    {
     "name": "stdout",
     "output_type": "stream",
     "text": [
      "Enter a : 1\n",
      "Enter b : 10\n",
      "Enter c : 2\n",
      "30\n"
     ]
    }
   ],
   "source": [
    "#sol->\n",
    "def sumDivisibles(a, b, c):     \n",
    "    sum = 0\n",
    "    for i in range(a, b + 1): \n",
    "        if (i % c == 0):\n",
    "            sum += i \n",
    "    return sum\n",
    "a = int(input('Enter a : '))\n",
    "b = int(input('Enter b : '))\n",
    "c = int(input('Enter c : '))\n",
    "print(sumDivisibles(a, b, c))"
   ]
  },
  {
   "cell_type": "markdown",
   "metadata": {},
   "source": [
    "# Question2. Create a function that returns True if a given inequality expression is correct and False otherwise.\n",
    "### Examples\n",
    "#### correct_signs(&quot;3 &lt; 7 &lt; 11&quot;) ➞ True\n",
    "#### correct_signs(&quot;13 &gt; 44 &gt; 33 &gt; 1&quot;) ➞ False\n",
    "#### correct_signs(&quot;1 &lt; 2 &lt; 6 &lt; 9 &gt; 3&quot;) ➞ True"
   ]
  },
  {
   "cell_type": "code",
   "execution_count": 5,
   "metadata": {},
   "outputs": [
    {
     "name": "stdout",
     "output_type": "stream",
     "text": [
      "False\n",
      "False\n",
      "True\n"
     ]
    }
   ],
   "source": [
    "#sol->\n",
    "def correct_signs ( txt ) : \n",
    "    return eval ( txt )\n",
    "print(correct_signs(\"3 > 7 < 11\"))\n",
    "print(correct_signs(\"13 > 44 > 33 > 1\"))\n",
    "print(correct_signs(\"1 < 2 < 6 < 9 > 3\"))"
   ]
  },
  {
   "cell_type": "markdown",
   "metadata": {},
   "source": [
    "# Question3. Create a function that replaces all the vowels in a string with a specified character.\n",
    "#### Examples\n",
    "#### replace_vowels(&quot;the aardvark&quot;, &quot;#&quot;) ➞ &quot;th# ##rdv#rk&quot;\n",
    "#### replace_vowels(&quot;minnie mouse&quot;, &quot;?&quot;) ➞ &quot;m?nn?? m??s?&quot;\n",
    "#### replace_vowels(&quot;shakespeare&quot;, &quot;*&quot;) ➞ &quot;sh*k*sp**r*&quot;"
   ]
  },
  {
   "cell_type": "code",
   "execution_count": 6,
   "metadata": {},
   "outputs": [
    {
     "name": "stdout",
     "output_type": "stream",
     "text": [
      "enter a string : naveen\n",
      "enter a vowel replacing string : $\n",
      "\n",
      "Given Sting: naveen\n",
      "Given Specified Character: $\n",
      "Afer replacing vowels with the specified character: n$v$$n\n"
     ]
    }
   ],
   "source": [
    "#sol->\n",
    "def replace_vowels(str, s):\n",
    "    vowels = 'AEIOUaeiou'\n",
    "    for ele in vowels:  \n",
    "        str = str.replace(ele, s)  \n",
    "    return str\n",
    "  \n",
    "input_str = input(\"enter a string : \")\n",
    "s = input(\"enter a vowel replacing string : \")\n",
    "print(\"\\nGiven Sting:\", input_str)\n",
    "print(\"Given Specified Character:\", s)\n",
    "print(\"Afer replacing vowels with the specified character:\",replace_vowels(input_str, s))\n"
   ]
  },
  {
   "cell_type": "markdown",
   "metadata": {},
   "source": [
    "# Question4. Write a function that calculates the factorial of a number recursively.\n",
    "#### Examples\n",
    "#### factorial(5) ➞ 120\n",
    "#### factorial(3) ➞ 6\n",
    "#### factorial(1) ➞ 1\n",
    "#### factorial(0) ➞ 1"
   ]
  },
  {
   "cell_type": "code",
   "execution_count": 7,
   "metadata": {},
   "outputs": [
    {
     "name": "stdout",
     "output_type": "stream",
     "text": [
      "enter a number :7\n",
      "Factorial of 7 is 5040\n"
     ]
    }
   ],
   "source": [
    "#sol->\n",
    "def factorial(n):     \n",
    "    if n == 0:\n",
    "        return 1    \n",
    "    return n * factorial(n-1)\n",
    "\n",
    "num = int(input('enter a number :'))\n",
    "print(\"Factorial of\", num, \"is\", factorial(num))"
   ]
  },
  {
   "cell_type": "markdown",
   "metadata": {},
   "source": [
    "# Question 5 Hamming distance is the number of characters that differ between two strings. \n",
    "#### To illustrate:\n",
    "#### String1: &quot;abcbba&quot;\n",
    "#### String2: &quot;abcbda&quot;\n",
    "#### Hamming Distance: 1 - &quot;b&quot; vs. &quot;d&quot; is the only difference.\n",
    "#### Create a function that computes the hamming distance between two strings.\n",
    "#### Examples\n",
    "#### hamming_distance(&quot;abcde&quot;, &quot;bcdef&quot;) ➞ 5\n",
    "#### hamming_distance(&quot;abcde&quot;, &quot;abcde&quot;) ➞ 0\n",
    "#### hamming_distance(&quot;strong&quot;, &quot;strung&quot;) ➞ 1"
   ]
  },
  {
   "cell_type": "code",
   "execution_count": 8,
   "metadata": {},
   "outputs": [
    {
     "name": "stdout",
     "output_type": "stream",
     "text": [
      "5\n"
     ]
    }
   ],
   "source": [
    "#sol->\n",
    "def hamming_distance(str1, str2):\n",
    "    i = 0\n",
    "    count = 0\n",
    " \n",
    "    while(i < len(str1)):\n",
    "        if(str1[i] != str2[i]):\n",
    "            count += 1\n",
    "        i += 1\n",
    "    return count\n",
    " \n",
    "# Driver code \n",
    "str1 = \"abcde\"\n",
    "str2 = \"bcdef\"\n",
    " \n",
    "# function call\n",
    "print(hamming_distance(str1, str2))"
   ]
  },
  {
   "cell_type": "code",
   "execution_count": 9,
   "metadata": {},
   "outputs": [
    {
     "name": "stdout",
     "output_type": "stream",
     "text": [
      "1\n"
     ]
    }
   ],
   "source": [
    "print(hamming_distance('strong', 'strung'))"
   ]
  },
  {
   "cell_type": "code",
   "execution_count": 10,
   "metadata": {},
   "outputs": [
    {
     "data": {
      "text/plain": [
       "0"
      ]
     },
     "execution_count": 10,
     "metadata": {},
     "output_type": "execute_result"
    }
   ],
   "source": [
    "hamming_distance('abcde', 'abcde')"
   ]
  }
 ],
 "metadata": {
  "kernelspec": {
   "display_name": "Python 3",
   "language": "python",
   "name": "python3"
  },
  "language_info": {
   "codemirror_mode": {
    "name": "ipython",
    "version": 3
   },
   "file_extension": ".py",
   "mimetype": "text/x-python",
   "name": "python",
   "nbconvert_exporter": "python",
   "pygments_lexer": "ipython3",
   "version": "3.7.9"
  }
 },
 "nbformat": 4,
 "nbformat_minor": 4
}
