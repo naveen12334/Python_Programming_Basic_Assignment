{
 "cells": [
  {
   "cell_type": "markdown",
   "metadata": {},
   "source": [
    "# Programming_Assingment8"
   ]
  },
  {
   "cell_type": "markdown",
   "metadata": {},
   "source": [
    "### 1. Write a Python Program to Add Two Matrices?\n"
   ]
  },
  {
   "cell_type": "code",
   "execution_count": 2,
   "metadata": {},
   "outputs": [
    {
     "name": "stdout",
     "output_type": "stream",
     "text": [
      "[6, 8]\n",
      "[10, 12]\n"
     ]
    }
   ],
   "source": [
    "#sol->\n",
    "x=[[1,2],\n",
    "   [3,4]]\n",
    "y=[[5,6],\n",
    "   [7,8]]\n",
    "result=[[0,0],\n",
    "        [0,0]]\n",
    "for i in range(len(x)):\n",
    "  for j in range(len(x[0])):\n",
    "    result[i][j]=x[i][j]+y[i][j]\n",
    "for r in result:\n",
    "  print(r)\n"
   ]
  },
  {
   "cell_type": "markdown",
   "metadata": {},
   "source": [
    "### 2. Write a Python Program to Multiply Two Matrices?\n"
   ]
  },
  {
   "cell_type": "code",
   "execution_count": 3,
   "metadata": {},
   "outputs": [
    {
     "name": "stdout",
     "output_type": "stream",
     "text": [
      "[20, 56]\n",
      "[82, 62]\n"
     ]
    }
   ],
   "source": [
    "## Sol->\n",
    "\n",
    "x=[[1,3],\n",
    "   [4,5]]\n",
    "y=[[7,8],\n",
    "   [9,5]]\n",
    "result_=[[0,0],\n",
    "         [0,0]]\n",
    "for i in range(len(x)):\n",
    "  for j in range(len(x[0])):\n",
    "    for k in range(len(y[0])):\n",
    "      result[i][j]+=x[i][j]*y[i][j]\n",
    "for r in result:\n",
    "  print(r)"
   ]
  },
  {
   "cell_type": "markdown",
   "metadata": {},
   "source": [
    "### 3. Write a Python Program to Transpose a Matrix?\n"
   ]
  },
  {
   "cell_type": "code",
   "execution_count": 4,
   "metadata": {},
   "outputs": [
    {
     "name": "stdout",
     "output_type": "stream",
     "text": [
      "[44, 4, 42]\n",
      "[7, 7, 8]\n"
     ]
    }
   ],
   "source": [
    "#sol->\n",
    "\n",
    "X = [[44,7],\n",
    "    [4 ,7],\n",
    "    [42,8]]\n",
    "result = [[0,0,0],\n",
    "         [0,0,0]]\n",
    "for i in range(len(X)):\n",
    "   for j in range(len(X[0])):\n",
    "       result[j][i] = X[i][j]\n",
    "\n",
    "for r in result:\n",
    "   print(r)\n"
   ]
  },
  {
   "cell_type": "markdown",
   "metadata": {},
   "source": [
    "#### 4. Write a Python Program to Sort Words in Alphabetic Order?\n"
   ]
  },
  {
   "cell_type": "code",
   "execution_count": 7,
   "metadata": {},
   "outputs": [
    {
     "name": "stdout",
     "output_type": "stream",
     "text": [
      "Enter some string: my name is naveen gupta\n",
      "gupta\n",
      "is\n",
      "my\n",
      "name\n",
      "naveen\n"
     ]
    }
   ],
   "source": [
    "#sol->\n",
    "a = input(\"Enter some string: \")\n",
    "\n",
    "words=a.split()\n",
    "words.sort()\n",
    "for word in words:\n",
    "  print(word)"
   ]
  },
  {
   "cell_type": "markdown",
   "metadata": {},
   "source": [
    "### 5. Write a Python Program to Remove Punctuation From a String?"
   ]
  },
  {
   "cell_type": "code",
   "execution_count": 8,
   "metadata": {},
   "outputs": [
    {
     "name": "stdout",
     "output_type": "stream",
     "text": [
      "Enter some string with panctuations'naveen'is,my-name\n",
      "naveenismyname\n"
     ]
    }
   ],
   "source": [
    "#sol->\n",
    "punctuations = '''!()-[]{};:'\"\\,<>./?@#$%^&*_~'''\n",
    "\n",
    "str = input(\"Enter some string with panctuations\")\n",
    "\n",
    "# remove punctuation from the string\n",
    "no_punct = \"\"\n",
    "for char in str:\n",
    "    if char not in punctuations:\n",
    "        no_punct = no_punct + char\n",
    "\n",
    "# display the unpunctuated string\n",
    "print(no_punct)"
   ]
  }
 ],
 "metadata": {
  "kernelspec": {
   "display_name": "Python 3",
   "language": "python",
   "name": "python3"
  },
  "language_info": {
   "codemirror_mode": {
    "name": "ipython",
    "version": 3
   },
   "file_extension": ".py",
   "mimetype": "text/x-python",
   "name": "python",
   "nbconvert_exporter": "python",
   "pygments_lexer": "ipython3",
   "version": "3.7.9"
  }
 },
 "nbformat": 4,
 "nbformat_minor": 4
}
