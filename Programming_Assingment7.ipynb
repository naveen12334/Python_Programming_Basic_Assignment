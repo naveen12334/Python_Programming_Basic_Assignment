{
 "cells": [
  {
   "cell_type": "markdown",
   "metadata": {},
   "source": [
    "# Programming_Assingment7"
   ]
  },
  {
   "cell_type": "markdown",
   "metadata": {},
   "source": [
    "### 1. Write a Python Program to find sum of array?\n"
   ]
  },
  {
   "cell_type": "code",
   "execution_count": 4,
   "metadata": {},
   "outputs": [
    {
     "data": {
      "text/plain": [
       "45"
      ]
     },
     "execution_count": 4,
     "metadata": {},
     "output_type": "execute_result"
    }
   ],
   "source": [
    "#Sol->\n",
    "lst = [1,2,3,4,5,6,7,8,9]\n",
    "sum(lst)"
   ]
  },
  {
   "cell_type": "markdown",
   "metadata": {},
   "source": [
    "### 2. Write a Python Program to find largest element in an array?\n"
   ]
  },
  {
   "cell_type": "code",
   "execution_count": 5,
   "metadata": {},
   "outputs": [
    {
     "name": "stdout",
     "output_type": "stream",
     "text": [
      "lstgetst elemnt in the array [100, 240, 310, 67, 445, 9] is 445\n"
     ]
    }
   ],
   "source": [
    "#sol->\n",
    "lst = [100,240,310,67,445,9]\n",
    "max(lst)\n",
    "print(\"lstgetst elemnt in the array {} is {}\".format(lst,max(lst)))"
   ]
  },
  {
   "cell_type": "markdown",
   "metadata": {},
   "source": [
    "### 3. Write a Python Program for array rotation?\n"
   ]
  },
  {
   "cell_type": "code",
   "execution_count": 6,
   "metadata": {},
   "outputs": [
    {
     "name": "stdout",
     "output_type": "stream",
     "text": [
      "Enter the length of list : 5\n",
      "23\n",
      "45\n",
      "65\n",
      "76\n",
      "34\n",
      "The List is  [23, 45, 65, 76, 34]\n",
      "Enter Rotation Right/Left : Right\n",
      "Enter the no of elements to rotate < : 4\n",
      "After right rotation :  [45, 65, 76, 34, 23]\n"
     ]
    }
   ],
   "source": [
    "#sol->\n",
    "n = int(input(\"Enter the length of list : \"))\n",
    "lst = []\n",
    "\n",
    "for i in range(n):\n",
    "    lst.append(int(input()))\n",
    "print(\"The List is \",lst)\n",
    "rotation = input(\"Enter Rotation Right/Left : \")\n",
    "nele = int(input(\"Enter the no of elements to rotate < : \"))\n",
    "if nele > n:\n",
    "    print(\"can not rotate\")\n",
    "else:\n",
    "    rlst = []\n",
    "    if rotation.upper() == \"RIGHT\":\n",
    "        rlst[:] = lst[-nele:] + lst[:(n-nele)]\n",
    "        print(\"After right rotation : \",rlst)\n",
    "    elif rotation.upper() == \"LEFT\":\n",
    "        rlst[:] = lst[nele:n] + lst[:nele] \n",
    "        print(\"After Left rotation : \",rlst)\n",
    "    else:\n",
    "        print(\"Invalid Entry\")"
   ]
  },
  {
   "cell_type": "markdown",
   "metadata": {},
   "source": [
    "### 4. Write a Python Program to Split the array and add the first part to the end?\n"
   ]
  },
  {
   "cell_type": "code",
   "execution_count": 7,
   "metadata": {},
   "outputs": [
    {
     "name": "stdout",
     "output_type": "stream",
     "text": [
      "Enter the length of your list : 6\n",
      "44\n",
      "223\n",
      "535\n",
      "75\n",
      "4\n",
      "55\n",
      "The List is  [44, 223, 535, 75, 4, 55]\n",
      "Enter the number of elements to split < : 2\n",
      "The split list is : [44, 223]\n",
      "The List after split and add : [535, 75, 4, 55, 44, 223]\n"
     ]
    }
   ],
   "source": [
    "#sol->\n",
    "n = int(input(\"Enter the length of your list : \"))\n",
    "lst = []\n",
    "\n",
    "for i in range(n):\n",
    "    lst.append(int(input()))\n",
    "print(\"The List is \",lst)\n",
    "\n",
    "nele = int(input(\"Enter the number of elements to split < : \"))\n",
    "if nele > n:\n",
    "    print(\"can not split as elements to split is larger then list length\")\n",
    "else:\n",
    "    print(\"The split list is :\",lst[:nele])\n",
    "    rlst[:] = lst[nele:n] + lst[:nele]\n",
    "    print(\"The List after split and add :\", rlst)"
   ]
  },
  {
   "cell_type": "markdown",
   "metadata": {},
   "source": [
    "###### 5. Write a Python Program to check if given array is Monotonic?"
   ]
  },
  {
   "cell_type": "code",
   "execution_count": 8,
   "metadata": {},
   "outputs": [
    {
     "name": "stdout",
     "output_type": "stream",
     "text": [
      "Enter the lenth of your list : 7\n",
      "45\n",
      "2\n",
      "45\n",
      "65\n",
      "7\n",
      "234\n",
      "7\n",
      "The List is  [45, 2, 45, 65, 7, 234, 7]\n",
      "Not Monotonic\n"
     ]
    }
   ],
   "source": [
    "n = int(input(\"Enter the lenth of your list : \"))\n",
    "lst = []\n",
    "\n",
    "for i in range(n):\n",
    "    lst.append(int(input()))\n",
    "print(\"The List is \",lst)\n",
    "\n",
    "if all((lst[i] <= lst[i+1] for i in range(n-1)) or (lst[i] >= lst[i+1] for i in range(n-1))):\n",
    "    print(\"Monotonic\")\n",
    "else:\n",
    "    print(\"Not Monotonic\")"
   ]
  }
 ],
 "metadata": {
  "kernelspec": {
   "display_name": "Python 3",
   "language": "python",
   "name": "python3"
  },
  "language_info": {
   "codemirror_mode": {
    "name": "ipython",
    "version": 3
   },
   "file_extension": ".py",
   "mimetype": "text/x-python",
   "name": "python",
   "nbconvert_exporter": "python",
   "pygments_lexer": "ipython3",
   "version": "3.7.9"
  }
 },
 "nbformat": 4,
 "nbformat_minor": 4
}
